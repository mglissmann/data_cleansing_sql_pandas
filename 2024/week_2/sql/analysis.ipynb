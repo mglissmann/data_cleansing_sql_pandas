{
 "cells": [
  {
   "cell_type": "markdown",
   "metadata": {},
   "source": [
    "# Challenge"
   ]
  },
  {
   "cell_type": "markdown",
   "metadata": {},
   "source": [
    "What is Preppin' Data? \n",
    "\n",
    "Preppin' Data is a website that posts weekly real world data preparation challenges for data professionals to solve using Tableau Prep. However, to demonstrate my SQL and Python capabilities I will be solving the challenges with these tools. \n",
    "\n",
    "https://preppindata.blogspot.com/2024/01/2024-week-2-average-price-analysis.html "
   ]
  },
  {
   "cell_type": "markdown",
   "metadata": {},
   "source": [
    "# Install and Import"
   ]
  },
  {
   "cell_type": "code",
   "execution_count": 35,
   "metadata": {},
   "outputs": [],
   "source": [
    "import pandas as pd\n",
    "import pandasql as ps\n",
    "import sqlite3"
   ]
  },
  {
   "cell_type": "markdown",
   "metadata": {},
   "source": [
    "# Get Data"
   ]
  },
  {
   "cell_type": "markdown",
   "metadata": {},
   "source": [
    "## Read Data"
   ]
  },
  {
   "cell_type": "code",
   "execution_count": 55,
   "metadata": {},
   "outputs": [],
   "source": [
    "path1 = '/Users/Mark1/Documents/Data Science/preppin_data/2024/week_2/data/input/PD 2024 Wk 1 Output Flow Card.csv'\n",
    "path2 = '/Users/Mark1/Documents/Data Science/preppin_data/2024/week_2/data/input/PD 2024 Wk 1 Output Non-Flow Card.csv'"
   ]
  },
  {
   "cell_type": "code",
   "execution_count": null,
   "metadata": {},
   "outputs": [],
   "source": [
    "# Connect to an SQLite database (in memory for temporary use)\n",
    "conn = sqlite3.connect(':memory:')  # Use ':memory:' for a temporary database\n",
    "cursor = conn.cursor()"
   ]
  },
  {
   "cell_type": "code",
   "execution_count": 41,
   "metadata": {},
   "outputs": [],
   "source": [
    "# Read the CSV into a pandas DataFrame\n",
    "df1 = pd.read_csv(path1)\n"
   ]
  },
  {
   "cell_type": "code",
   "execution_count": 39,
   "metadata": {},
   "outputs": [
    {
     "data": {
      "text/html": [
       "<div>\n",
       "<style scoped>\n",
       "    .dataframe tbody tr th:only-of-type {\n",
       "        vertical-align: middle;\n",
       "    }\n",
       "\n",
       "    .dataframe tbody tr th {\n",
       "        vertical-align: top;\n",
       "    }\n",
       "\n",
       "    .dataframe thead th {\n",
       "        text-align: right;\n",
       "    }\n",
       "</style>\n",
       "<table border=\"1\" class=\"dataframe\">\n",
       "  <thead>\n",
       "    <tr style=\"text-align: right;\">\n",
       "      <th></th>\n",
       "      <th>Date</th>\n",
       "      <th>Flight Number</th>\n",
       "      <th>From</th>\n",
       "      <th>To</th>\n",
       "      <th>Class</th>\n",
       "      <th>Price</th>\n",
       "      <th>Flow Card?</th>\n",
       "      <th>Bags Checked</th>\n",
       "      <th>Meal Type</th>\n",
       "    </tr>\n",
       "  </thead>\n",
       "  <tbody>\n",
       "    <tr>\n",
       "      <th>0</th>\n",
       "      <td>22/07/2024</td>\n",
       "      <td>PA010</td>\n",
       "      <td>Tokyo</td>\n",
       "      <td>New York</td>\n",
       "      <td>Economy</td>\n",
       "      <td>2380.0</td>\n",
       "      <td>Yes</td>\n",
       "      <td>0</td>\n",
       "      <td>Egg Free</td>\n",
       "    </tr>\n",
       "    <tr>\n",
       "      <th>1</th>\n",
       "      <td>20/04/2024</td>\n",
       "      <td>PA002</td>\n",
       "      <td>New York</td>\n",
       "      <td>London</td>\n",
       "      <td>Economy</td>\n",
       "      <td>3490.0</td>\n",
       "      <td>Yes</td>\n",
       "      <td>1</td>\n",
       "      <td>Vegan</td>\n",
       "    </tr>\n",
       "    <tr>\n",
       "      <th>2</th>\n",
       "      <td>23/01/2024</td>\n",
       "      <td>PA010</td>\n",
       "      <td>Tokyo</td>\n",
       "      <td>New York</td>\n",
       "      <td>Premium Economy</td>\n",
       "      <td>825.0</td>\n",
       "      <td>Yes</td>\n",
       "      <td>1</td>\n",
       "      <td>Vegetarian</td>\n",
       "    </tr>\n",
       "    <tr>\n",
       "      <th>3</th>\n",
       "      <td>05/06/2024</td>\n",
       "      <td>PA006</td>\n",
       "      <td>Tokyo</td>\n",
       "      <td>London</td>\n",
       "      <td>First Class</td>\n",
       "      <td>618.0</td>\n",
       "      <td>Yes</td>\n",
       "      <td>3</td>\n",
       "      <td>Vegan</td>\n",
       "    </tr>\n",
       "    <tr>\n",
       "      <th>4</th>\n",
       "      <td>30/03/2024</td>\n",
       "      <td>PA004</td>\n",
       "      <td>Perth</td>\n",
       "      <td>London</td>\n",
       "      <td>First Class</td>\n",
       "      <td>446.0</td>\n",
       "      <td>Yes</td>\n",
       "      <td>1</td>\n",
       "      <td>Nut Free</td>\n",
       "    </tr>\n",
       "  </tbody>\n",
       "</table>\n",
       "</div>"
      ],
      "text/plain": [
       "         Date Flight Number      From        To            Class   Price  \\\n",
       "0  22/07/2024         PA010     Tokyo  New York          Economy  2380.0   \n",
       "1  20/04/2024         PA002  New York    London          Economy  3490.0   \n",
       "2  23/01/2024         PA010     Tokyo  New York  Premium Economy   825.0   \n",
       "3  05/06/2024         PA006     Tokyo    London      First Class   618.0   \n",
       "4  30/03/2024         PA004     Perth    London      First Class   446.0   \n",
       "\n",
       "  Flow Card?  Bags Checked   Meal Type  \n",
       "0        Yes             0    Egg Free  \n",
       "1        Yes             1       Vegan  \n",
       "2        Yes             1  Vegetarian  \n",
       "3        Yes             3       Vegan  \n",
       "4        Yes             1    Nut Free  "
      ]
     },
     "execution_count": 39,
     "metadata": {},
     "output_type": "execute_result"
    }
   ],
   "source": [
    "df1.head()"
   ]
  },
  {
   "cell_type": "code",
   "execution_count": 38,
   "metadata": {},
   "outputs": [
    {
     "name": "stdout",
     "output_type": "stream",
     "text": [
      "<class 'pandas.core.frame.DataFrame'>\n",
      "RangeIndex: 1883 entries, 0 to 1882\n",
      "Data columns (total 9 columns):\n",
      " #   Column         Non-Null Count  Dtype  \n",
      "---  ------         --------------  -----  \n",
      " 0   Date           1883 non-null   object \n",
      " 1   Flight Number  1883 non-null   object \n",
      " 2   From           1883 non-null   object \n",
      " 3   To             1883 non-null   object \n",
      " 4   Class          1883 non-null   object \n",
      " 5   Price          1883 non-null   float64\n",
      " 6   Flow Card?     1883 non-null   object \n",
      " 7   Bags Checked   1883 non-null   int64  \n",
      " 8   Meal Type      1594 non-null   object \n",
      "dtypes: float64(1), int64(1), object(7)\n",
      "memory usage: 132.5+ KB\n"
     ]
    }
   ],
   "source": [
    "df1.info()"
   ]
  },
  {
   "cell_type": "code",
   "execution_count": 56,
   "metadata": {},
   "outputs": [],
   "source": [
    "# Read the CSV into a pandas DataFrame\n",
    "df2 = pd.read_csv(path2)"
   ]
  },
  {
   "cell_type": "markdown",
   "metadata": {},
   "source": [
    "## Create and Load SQLite DB table"
   ]
  },
  {
   "cell_type": "code",
   "execution_count": 45,
   "metadata": {},
   "outputs": [
    {
     "ename": "OperationalError",
     "evalue": "table table1 already exists",
     "output_type": "error",
     "traceback": [
      "\u001b[0;31m---------------------------------------------------------------------------\u001b[0m",
      "\u001b[0;31mOperationalError\u001b[0m                          Traceback (most recent call last)",
      "Cell \u001b[0;32mIn[45], line 1\u001b[0m\n\u001b[0;32m----> 1\u001b[0m \u001b[43mcursor\u001b[49m\u001b[38;5;241;43m.\u001b[39;49m\u001b[43mexecute\u001b[49m\u001b[43m(\u001b[49m\n\u001b[1;32m      2\u001b[0m \u001b[38;5;124;43;03m\"\"\"\u001b[39;49;00m\n\u001b[1;32m      3\u001b[0m \u001b[38;5;124;43;03mCREATE TABLE table1 (\u001b[39;49;00m\n\u001b[1;32m      4\u001b[0m \u001b[38;5;124;43;03m    \"Date\" TEXT,\u001b[39;49;00m\n\u001b[1;32m      5\u001b[0m \u001b[38;5;124;43;03m    \"Flight Number\" TEXT,\u001b[39;49;00m\n\u001b[1;32m      6\u001b[0m \u001b[38;5;124;43;03m    \"From\" TEXT,\u001b[39;49;00m\n\u001b[1;32m      7\u001b[0m \u001b[38;5;124;43;03m    \"To\" TEXT,\u001b[39;49;00m\n\u001b[1;32m      8\u001b[0m \u001b[38;5;124;43;03m    \"Class\" TEXT,\u001b[39;49;00m\n\u001b[1;32m      9\u001b[0m \u001b[38;5;124;43;03m    \"Price\" REAL,\u001b[39;49;00m\n\u001b[1;32m     10\u001b[0m \u001b[38;5;124;43;03m    \"Flow Card?\" TEXT,\u001b[39;49;00m\n\u001b[1;32m     11\u001b[0m \u001b[38;5;124;43;03m    \"Bags Checked\" INTEGER,\u001b[39;49;00m\n\u001b[1;32m     12\u001b[0m \u001b[38;5;124;43;03m    \"Meal Type\" TEXT\u001b[39;49;00m\n\u001b[1;32m     13\u001b[0m \u001b[38;5;124;43;03m);\u001b[39;49;00m\n\u001b[1;32m     14\u001b[0m \u001b[38;5;124;43;03m\"\"\"\u001b[39;49;00m\u001b[43m)\u001b[49m\n",
      "\u001b[0;31mOperationalError\u001b[0m: table table1 already exists"
     ]
    }
   ],
   "source": [
    "cursor.execute(\n",
    "\"\"\"\n",
    "CREATE TABLE table1 (\n",
    "    \"Date\" TEXT,\n",
    "    \"Flight Number\" TEXT,\n",
    "    \"From\" TEXT,\n",
    "    \"To\" TEXT,\n",
    "    \"Class\" TEXT,\n",
    "    \"Price\" REAL,\n",
    "    \"Flow Card?\" TEXT,\n",
    "    \"Bags Checked\" INTEGER,\n",
    "    \"Meal Type\" TEXT\n",
    ");\n",
    "\"\"\")"
   ]
  },
  {
   "cell_type": "code",
   "execution_count": 46,
   "metadata": {},
   "outputs": [
    {
     "data": {
      "text/plain": [
       "1883"
      ]
     },
     "execution_count": 46,
     "metadata": {},
     "output_type": "execute_result"
    }
   ],
   "source": [
    "# Load the DataFrame into the SQLite table\n",
    "df1.to_sql('table1', conn, if_exists='replace', index=False)"
   ]
  },
  {
   "cell_type": "code",
   "execution_count": 53,
   "metadata": {},
   "outputs": [
    {
     "data": {
      "text/html": [
       "<div>\n",
       "<style scoped>\n",
       "    .dataframe tbody tr th:only-of-type {\n",
       "        vertical-align: middle;\n",
       "    }\n",
       "\n",
       "    .dataframe tbody tr th {\n",
       "        vertical-align: top;\n",
       "    }\n",
       "\n",
       "    .dataframe thead th {\n",
       "        text-align: right;\n",
       "    }\n",
       "</style>\n",
       "<table border=\"1\" class=\"dataframe\">\n",
       "  <thead>\n",
       "    <tr style=\"text-align: right;\">\n",
       "      <th></th>\n",
       "      <th>cid</th>\n",
       "      <th>name</th>\n",
       "      <th>type</th>\n",
       "      <th>notnull</th>\n",
       "      <th>dflt_value</th>\n",
       "      <th>pk</th>\n",
       "    </tr>\n",
       "  </thead>\n",
       "  <tbody>\n",
       "    <tr>\n",
       "      <th>0</th>\n",
       "      <td>0</td>\n",
       "      <td>Date</td>\n",
       "      <td>TEXT</td>\n",
       "      <td>0</td>\n",
       "      <td>None</td>\n",
       "      <td>0</td>\n",
       "    </tr>\n",
       "    <tr>\n",
       "      <th>1</th>\n",
       "      <td>1</td>\n",
       "      <td>Flight Number</td>\n",
       "      <td>TEXT</td>\n",
       "      <td>0</td>\n",
       "      <td>None</td>\n",
       "      <td>0</td>\n",
       "    </tr>\n",
       "    <tr>\n",
       "      <th>2</th>\n",
       "      <td>2</td>\n",
       "      <td>From</td>\n",
       "      <td>TEXT</td>\n",
       "      <td>0</td>\n",
       "      <td>None</td>\n",
       "      <td>0</td>\n",
       "    </tr>\n",
       "    <tr>\n",
       "      <th>3</th>\n",
       "      <td>3</td>\n",
       "      <td>To</td>\n",
       "      <td>TEXT</td>\n",
       "      <td>0</td>\n",
       "      <td>None</td>\n",
       "      <td>0</td>\n",
       "    </tr>\n",
       "    <tr>\n",
       "      <th>4</th>\n",
       "      <td>4</td>\n",
       "      <td>Class</td>\n",
       "      <td>TEXT</td>\n",
       "      <td>0</td>\n",
       "      <td>None</td>\n",
       "      <td>0</td>\n",
       "    </tr>\n",
       "    <tr>\n",
       "      <th>5</th>\n",
       "      <td>5</td>\n",
       "      <td>Price</td>\n",
       "      <td>REAL</td>\n",
       "      <td>0</td>\n",
       "      <td>None</td>\n",
       "      <td>0</td>\n",
       "    </tr>\n",
       "    <tr>\n",
       "      <th>6</th>\n",
       "      <td>6</td>\n",
       "      <td>Flow Card?</td>\n",
       "      <td>TEXT</td>\n",
       "      <td>0</td>\n",
       "      <td>None</td>\n",
       "      <td>0</td>\n",
       "    </tr>\n",
       "    <tr>\n",
       "      <th>7</th>\n",
       "      <td>7</td>\n",
       "      <td>Bags Checked</td>\n",
       "      <td>INTEGER</td>\n",
       "      <td>0</td>\n",
       "      <td>None</td>\n",
       "      <td>0</td>\n",
       "    </tr>\n",
       "    <tr>\n",
       "      <th>8</th>\n",
       "      <td>8</td>\n",
       "      <td>Meal Type</td>\n",
       "      <td>TEXT</td>\n",
       "      <td>0</td>\n",
       "      <td>None</td>\n",
       "      <td>0</td>\n",
       "    </tr>\n",
       "  </tbody>\n",
       "</table>\n",
       "</div>"
      ],
      "text/plain": [
       "   cid           name     type  notnull dflt_value  pk\n",
       "0    0           Date     TEXT        0       None   0\n",
       "1    1  Flight Number     TEXT        0       None   0\n",
       "2    2           From     TEXT        0       None   0\n",
       "3    3             To     TEXT        0       None   0\n",
       "4    4          Class     TEXT        0       None   0\n",
       "5    5          Price     REAL        0       None   0\n",
       "6    6     Flow Card?     TEXT        0       None   0\n",
       "7    7   Bags Checked  INTEGER        0       None   0\n",
       "8    8      Meal Type     TEXT        0       None   0"
      ]
     },
     "execution_count": 53,
     "metadata": {},
     "output_type": "execute_result"
    }
   ],
   "source": [
    "# Verify the schema using PRAGMA\n",
    "query = \"\"\" \n",
    "PRAGMA table_info('table1')\n",
    "\"\"\"\n",
    "\n",
    "query_result = pd.read_sql_query(query, conn)\n",
    "query_result"
   ]
  },
  {
   "cell_type": "code",
   "execution_count": null,
   "metadata": {},
   "outputs": [
    {
     "data": {
      "text/html": [
       "<div>\n",
       "<style scoped>\n",
       "    .dataframe tbody tr th:only-of-type {\n",
       "        vertical-align: middle;\n",
       "    }\n",
       "\n",
       "    .dataframe tbody tr th {\n",
       "        vertical-align: top;\n",
       "    }\n",
       "\n",
       "    .dataframe thead th {\n",
       "        text-align: right;\n",
       "    }\n",
       "</style>\n",
       "<table border=\"1\" class=\"dataframe\">\n",
       "  <thead>\n",
       "    <tr style=\"text-align: right;\">\n",
       "      <th></th>\n",
       "      <th>Date</th>\n",
       "      <th>Flight Number</th>\n",
       "      <th>From</th>\n",
       "      <th>To</th>\n",
       "      <th>Class</th>\n",
       "      <th>Price</th>\n",
       "      <th>Flow Card?</th>\n",
       "      <th>Bags Checked</th>\n",
       "      <th>Meal Type</th>\n",
       "    </tr>\n",
       "  </thead>\n",
       "  <tbody>\n",
       "    <tr>\n",
       "      <th>0</th>\n",
       "      <td>22/07/2024</td>\n",
       "      <td>PA010</td>\n",
       "      <td>Tokyo</td>\n",
       "      <td>New York</td>\n",
       "      <td>Economy</td>\n",
       "      <td>2380.0</td>\n",
       "      <td>Yes</td>\n",
       "      <td>0</td>\n",
       "      <td>Egg Free</td>\n",
       "    </tr>\n",
       "    <tr>\n",
       "      <th>1</th>\n",
       "      <td>20/04/2024</td>\n",
       "      <td>PA002</td>\n",
       "      <td>New York</td>\n",
       "      <td>London</td>\n",
       "      <td>Economy</td>\n",
       "      <td>3490.0</td>\n",
       "      <td>Yes</td>\n",
       "      <td>1</td>\n",
       "      <td>Vegan</td>\n",
       "    </tr>\n",
       "    <tr>\n",
       "      <th>2</th>\n",
       "      <td>23/01/2024</td>\n",
       "      <td>PA010</td>\n",
       "      <td>Tokyo</td>\n",
       "      <td>New York</td>\n",
       "      <td>Premium Economy</td>\n",
       "      <td>825.0</td>\n",
       "      <td>Yes</td>\n",
       "      <td>1</td>\n",
       "      <td>Vegetarian</td>\n",
       "    </tr>\n",
       "    <tr>\n",
       "      <th>3</th>\n",
       "      <td>05/06/2024</td>\n",
       "      <td>PA006</td>\n",
       "      <td>Tokyo</td>\n",
       "      <td>London</td>\n",
       "      <td>First Class</td>\n",
       "      <td>618.0</td>\n",
       "      <td>Yes</td>\n",
       "      <td>3</td>\n",
       "      <td>Vegan</td>\n",
       "    </tr>\n",
       "    <tr>\n",
       "      <th>4</th>\n",
       "      <td>30/03/2024</td>\n",
       "      <td>PA004</td>\n",
       "      <td>Perth</td>\n",
       "      <td>London</td>\n",
       "      <td>First Class</td>\n",
       "      <td>446.0</td>\n",
       "      <td>Yes</td>\n",
       "      <td>1</td>\n",
       "      <td>Nut Free</td>\n",
       "    </tr>\n",
       "  </tbody>\n",
       "</table>\n",
       "</div>"
      ],
      "text/plain": [
       "         Date Flight Number      From        To            Class   Price  \\\n",
       "0  22/07/2024         PA010     Tokyo  New York          Economy  2380.0   \n",
       "1  20/04/2024         PA002  New York    London          Economy  3490.0   \n",
       "2  23/01/2024         PA010     Tokyo  New York  Premium Economy   825.0   \n",
       "3  05/06/2024         PA006     Tokyo    London      First Class   618.0   \n",
       "4  30/03/2024         PA004     Perth    London      First Class   446.0   \n",
       "\n",
       "  Flow Card?  Bags Checked   Meal Type  \n",
       "0        Yes             0    Egg Free  \n",
       "1        Yes             1       Vegan  \n",
       "2        Yes             1  Vegetarian  \n",
       "3        Yes             3       Vegan  \n",
       "4        Yes             1    Nut Free  "
      ]
     },
     "execution_count": 50,
     "metadata": {},
     "output_type": "execute_result"
    }
   ],
   "source": [
    "query = \"\"\" \n",
    "SELECT * \n",
    "FROM table1 \n",
    "LIMIT 5\n",
    "\"\"\"\n",
    "\n",
    "query_result = pd.read_sql_query(query, conn)\n",
    "query_result"
   ]
  },
  {
   "cell_type": "code",
   "execution_count": 57,
   "metadata": {},
   "outputs": [
    {
     "name": "stdout",
     "output_type": "stream",
     "text": [
      "<class 'pandas.core.frame.DataFrame'>\n",
      "RangeIndex: 1895 entries, 0 to 1894\n",
      "Data columns (total 9 columns):\n",
      " #   Column         Non-Null Count  Dtype  \n",
      "---  ------         --------------  -----  \n",
      " 0   Date           1895 non-null   object \n",
      " 1   Flight Number  1895 non-null   object \n",
      " 2   From           1895 non-null   object \n",
      " 3   To             1895 non-null   object \n",
      " 4   Class          1895 non-null   object \n",
      " 5   Price          1895 non-null   float64\n",
      " 6   Flow Card?     1895 non-null   object \n",
      " 7   Bags Checked   1895 non-null   int64  \n",
      " 8   Meal Type      1595 non-null   object \n",
      "dtypes: float64(1), int64(1), object(7)\n",
      "memory usage: 133.4+ KB\n"
     ]
    }
   ],
   "source": [
    "df2.info()"
   ]
  },
  {
   "cell_type": "code",
   "execution_count": 58,
   "metadata": {},
   "outputs": [
    {
     "data": {
      "text/html": [
       "<div>\n",
       "<style scoped>\n",
       "    .dataframe tbody tr th:only-of-type {\n",
       "        vertical-align: middle;\n",
       "    }\n",
       "\n",
       "    .dataframe tbody tr th {\n",
       "        vertical-align: top;\n",
       "    }\n",
       "\n",
       "    .dataframe thead th {\n",
       "        text-align: right;\n",
       "    }\n",
       "</style>\n",
       "<table border=\"1\" class=\"dataframe\">\n",
       "  <thead>\n",
       "    <tr style=\"text-align: right;\">\n",
       "      <th></th>\n",
       "      <th>Date</th>\n",
       "      <th>Flight Number</th>\n",
       "      <th>From</th>\n",
       "      <th>To</th>\n",
       "      <th>Class</th>\n",
       "      <th>Price</th>\n",
       "      <th>Flow Card?</th>\n",
       "      <th>Bags Checked</th>\n",
       "      <th>Meal Type</th>\n",
       "    </tr>\n",
       "  </thead>\n",
       "  <tbody>\n",
       "    <tr>\n",
       "      <th>0</th>\n",
       "      <td>28/09/2024</td>\n",
       "      <td>PA008</td>\n",
       "      <td>Perth</td>\n",
       "      <td>New York</td>\n",
       "      <td>Economy</td>\n",
       "      <td>1855.0</td>\n",
       "      <td>No</td>\n",
       "      <td>2</td>\n",
       "      <td>Vegetarian</td>\n",
       "    </tr>\n",
       "    <tr>\n",
       "      <th>1</th>\n",
       "      <td>01/10/2024</td>\n",
       "      <td>PA008</td>\n",
       "      <td>Perth</td>\n",
       "      <td>New York</td>\n",
       "      <td>Business Class</td>\n",
       "      <td>634.8</td>\n",
       "      <td>No</td>\n",
       "      <td>0</td>\n",
       "      <td>Vegetarian</td>\n",
       "    </tr>\n",
       "    <tr>\n",
       "      <th>2</th>\n",
       "      <td>04/03/2024</td>\n",
       "      <td>PA007</td>\n",
       "      <td>New York</td>\n",
       "      <td>Perth</td>\n",
       "      <td>Business Class</td>\n",
       "      <td>458.4</td>\n",
       "      <td>No</td>\n",
       "      <td>3</td>\n",
       "      <td>Nut Free</td>\n",
       "    </tr>\n",
       "    <tr>\n",
       "      <th>3</th>\n",
       "      <td>25/02/2024</td>\n",
       "      <td>PA010</td>\n",
       "      <td>Tokyo</td>\n",
       "      <td>New York</td>\n",
       "      <td>Premium Economy</td>\n",
       "      <td>1435.0</td>\n",
       "      <td>No</td>\n",
       "      <td>0</td>\n",
       "      <td>NaN</td>\n",
       "    </tr>\n",
       "    <tr>\n",
       "      <th>4</th>\n",
       "      <td>29/03/2024</td>\n",
       "      <td>PA004</td>\n",
       "      <td>Perth</td>\n",
       "      <td>London</td>\n",
       "      <td>Economy</td>\n",
       "      <td>2730.0</td>\n",
       "      <td>No</td>\n",
       "      <td>2</td>\n",
       "      <td>Vegan</td>\n",
       "    </tr>\n",
       "  </tbody>\n",
       "</table>\n",
       "</div>"
      ],
      "text/plain": [
       "         Date Flight Number      From        To            Class   Price  \\\n",
       "0  28/09/2024         PA008     Perth  New York          Economy  1855.0   \n",
       "1  01/10/2024         PA008     Perth  New York   Business Class   634.8   \n",
       "2  04/03/2024         PA007  New York     Perth   Business Class   458.4   \n",
       "3  25/02/2024         PA010     Tokyo  New York  Premium Economy  1435.0   \n",
       "4  29/03/2024         PA004     Perth    London          Economy  2730.0   \n",
       "\n",
       "  Flow Card?  Bags Checked   Meal Type  \n",
       "0         No             2  Vegetarian  \n",
       "1         No             0  Vegetarian  \n",
       "2         No             3    Nut Free  \n",
       "3         No             0         NaN  \n",
       "4         No             2       Vegan  "
      ]
     },
     "execution_count": 58,
     "metadata": {},
     "output_type": "execute_result"
    }
   ],
   "source": [
    "df2.head()"
   ]
  },
  {
   "cell_type": "code",
   "execution_count": 59,
   "metadata": {},
   "outputs": [
    {
     "data": {
      "text/plain": [
       "<sqlite3.Cursor at 0x116cb1110>"
      ]
     },
     "execution_count": 59,
     "metadata": {},
     "output_type": "execute_result"
    }
   ],
   "source": [
    "cursor.execute(\n",
    "\"\"\"\n",
    "CREATE TABLE table2 (\n",
    "    \"Date\" TEXT,\n",
    "    \"Flight Number\" TEXT,\n",
    "    \"From\" TEXT,\n",
    "    \"To\" TEXT,\n",
    "    \"Class\" TEXT,\n",
    "    \"Price\" REAL,\n",
    "    \"Flow Card?\" TEXT,\n",
    "    \"Bags Checked\" INTEGER,\n",
    "    \"Meal Type\" TEXT\n",
    ");\n",
    "\"\"\")"
   ]
  },
  {
   "cell_type": "code",
   "execution_count": 60,
   "metadata": {},
   "outputs": [
    {
     "data": {
      "text/plain": [
       "1895"
      ]
     },
     "execution_count": 60,
     "metadata": {},
     "output_type": "execute_result"
    }
   ],
   "source": [
    "# Load the DataFrame into the SQLite table\n",
    "df2.to_sql('table2', conn, if_exists='replace', index=False)"
   ]
  },
  {
   "cell_type": "code",
   "execution_count": 61,
   "metadata": {},
   "outputs": [
    {
     "data": {
      "text/html": [
       "<div>\n",
       "<style scoped>\n",
       "    .dataframe tbody tr th:only-of-type {\n",
       "        vertical-align: middle;\n",
       "    }\n",
       "\n",
       "    .dataframe tbody tr th {\n",
       "        vertical-align: top;\n",
       "    }\n",
       "\n",
       "    .dataframe thead th {\n",
       "        text-align: right;\n",
       "    }\n",
       "</style>\n",
       "<table border=\"1\" class=\"dataframe\">\n",
       "  <thead>\n",
       "    <tr style=\"text-align: right;\">\n",
       "      <th></th>\n",
       "      <th>Date</th>\n",
       "      <th>Flight Number</th>\n",
       "      <th>From</th>\n",
       "      <th>To</th>\n",
       "      <th>Class</th>\n",
       "      <th>Price</th>\n",
       "      <th>Flow Card?</th>\n",
       "      <th>Bags Checked</th>\n",
       "      <th>Meal Type</th>\n",
       "    </tr>\n",
       "  </thead>\n",
       "  <tbody>\n",
       "    <tr>\n",
       "      <th>0</th>\n",
       "      <td>28/09/2024</td>\n",
       "      <td>PA008</td>\n",
       "      <td>Perth</td>\n",
       "      <td>New York</td>\n",
       "      <td>Economy</td>\n",
       "      <td>1855.0</td>\n",
       "      <td>No</td>\n",
       "      <td>2</td>\n",
       "      <td>Vegetarian</td>\n",
       "    </tr>\n",
       "    <tr>\n",
       "      <th>1</th>\n",
       "      <td>01/10/2024</td>\n",
       "      <td>PA008</td>\n",
       "      <td>Perth</td>\n",
       "      <td>New York</td>\n",
       "      <td>Business Class</td>\n",
       "      <td>634.8</td>\n",
       "      <td>No</td>\n",
       "      <td>0</td>\n",
       "      <td>Vegetarian</td>\n",
       "    </tr>\n",
       "    <tr>\n",
       "      <th>2</th>\n",
       "      <td>04/03/2024</td>\n",
       "      <td>PA007</td>\n",
       "      <td>New York</td>\n",
       "      <td>Perth</td>\n",
       "      <td>Business Class</td>\n",
       "      <td>458.4</td>\n",
       "      <td>No</td>\n",
       "      <td>3</td>\n",
       "      <td>Nut Free</td>\n",
       "    </tr>\n",
       "    <tr>\n",
       "      <th>3</th>\n",
       "      <td>25/02/2024</td>\n",
       "      <td>PA010</td>\n",
       "      <td>Tokyo</td>\n",
       "      <td>New York</td>\n",
       "      <td>Premium Economy</td>\n",
       "      <td>1435.0</td>\n",
       "      <td>No</td>\n",
       "      <td>0</td>\n",
       "      <td>None</td>\n",
       "    </tr>\n",
       "    <tr>\n",
       "      <th>4</th>\n",
       "      <td>29/03/2024</td>\n",
       "      <td>PA004</td>\n",
       "      <td>Perth</td>\n",
       "      <td>London</td>\n",
       "      <td>Economy</td>\n",
       "      <td>2730.0</td>\n",
       "      <td>No</td>\n",
       "      <td>2</td>\n",
       "      <td>Vegan</td>\n",
       "    </tr>\n",
       "  </tbody>\n",
       "</table>\n",
       "</div>"
      ],
      "text/plain": [
       "         Date Flight Number      From        To            Class   Price  \\\n",
       "0  28/09/2024         PA008     Perth  New York          Economy  1855.0   \n",
       "1  01/10/2024         PA008     Perth  New York   Business Class   634.8   \n",
       "2  04/03/2024         PA007  New York     Perth   Business Class   458.4   \n",
       "3  25/02/2024         PA010     Tokyo  New York  Premium Economy  1435.0   \n",
       "4  29/03/2024         PA004     Perth    London          Economy  2730.0   \n",
       "\n",
       "  Flow Card?  Bags Checked   Meal Type  \n",
       "0         No             2  Vegetarian  \n",
       "1         No             0  Vegetarian  \n",
       "2         No             3    Nut Free  \n",
       "3         No             0        None  \n",
       "4         No             2       Vegan  "
      ]
     },
     "execution_count": 61,
     "metadata": {},
     "output_type": "execute_result"
    }
   ],
   "source": [
    "query = \"\"\" \n",
    "SELECT * \n",
    "FROM table2 \n",
    "LIMIT 5\n",
    "\"\"\"\n",
    "\n",
    "query_result = pd.read_sql_query(query, conn)\n",
    "query_result"
   ]
  },
  {
   "cell_type": "markdown",
   "metadata": {},
   "source": [
    "# Data Preparation"
   ]
  },
  {
   "cell_type": "code",
   "execution_count": null,
   "metadata": {},
   "outputs": [],
   "source": []
  },
  {
   "cell_type": "code",
   "execution_count": null,
   "metadata": {},
   "outputs": [],
   "source": []
  },
  {
   "cell_type": "code",
   "execution_count": null,
   "metadata": {},
   "outputs": [],
   "source": [
    "# Close the connection\n",
    "conn.close()"
   ]
  }
 ],
 "metadata": {
  "kernelspec": {
   "display_name": "Python 3",
   "language": "python",
   "name": "python3"
  },
  "language_info": {
   "codemirror_mode": {
    "name": "ipython",
    "version": 3
   },
   "file_extension": ".py",
   "mimetype": "text/x-python",
   "name": "python",
   "nbconvert_exporter": "python",
   "pygments_lexer": "ipython3",
   "version": "3.9.6"
  }
 },
 "nbformat": 4,
 "nbformat_minor": 2
}
