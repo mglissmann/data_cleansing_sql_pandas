{
 "cells": [
  {
   "cell_type": "code",
   "execution_count": 1,
   "metadata": {},
   "outputs": [],
   "source": [
    "import pandas as pd"
   ]
  },
  {
   "cell_type": "code",
   "execution_count": 3,
   "metadata": {},
   "outputs": [],
   "source": [
    "path1 = '/Users/Mark1/Documents/Data Science/preppin_data/2024/week_2/data/input/PD 2024 Wk 1 Output Flow Card.csv'\n",
    "path2 = '/Users/Mark1/Documents/Data Science/preppin_data/2024/week_2/data/input/PD 2024 Wk 1 Output Non-Flow Card.csv'"
   ]
  },
  {
   "cell_type": "code",
   "execution_count": 4,
   "metadata": {},
   "outputs": [
    {
     "name": "stdout",
     "output_type": "stream",
     "text": [
      "         Date Flight Number      From        To            Class   Price  \\\n",
      "0  22/07/2024         PA010     Tokyo  New York          Economy  2380.0   \n",
      "1  20/04/2024         PA002  New York    London          Economy  3490.0   \n",
      "2  23/01/2024         PA010     Tokyo  New York  Premium Economy   825.0   \n",
      "3  05/06/2024         PA006     Tokyo    London      First Class   618.0   \n",
      "4  30/03/2024         PA004     Perth    London      First Class   446.0   \n",
      "\n",
      "  Flow Card?  Bags Checked   Meal Type  \n",
      "0        Yes             0    Egg Free  \n",
      "1        Yes             1       Vegan  \n",
      "2        Yes             1  Vegetarian  \n",
      "3        Yes             3       Vegan  \n",
      "4        Yes             1    Nut Free  \n",
      "         Date Flight Number      From        To            Class   Price  \\\n",
      "0  28/09/2024         PA008     Perth  New York          Economy  1855.0   \n",
      "1  01/10/2024         PA008     Perth  New York   Business Class   634.8   \n",
      "2  04/03/2024         PA007  New York     Perth   Business Class   458.4   \n",
      "3  25/02/2024         PA010     Tokyo  New York  Premium Economy  1435.0   \n",
      "4  29/03/2024         PA004     Perth    London          Economy  2730.0   \n",
      "\n",
      "  Flow Card?  Bags Checked   Meal Type  \n",
      "0         No             2  Vegetarian  \n",
      "1         No             0  Vegetarian  \n",
      "2         No             3    Nut Free  \n",
      "3         No             0         NaN  \n",
      "4         No             2       Vegan  \n"
     ]
    }
   ],
   "source": [
    "df1 = pd.read_csv(path1)\n",
    "df2 = pd.read_csv(path2)\n",
    "\n",
    "print(df1.head())\n",
    "print(df2.head())"
   ]
  },
  {
   "cell_type": "code",
   "execution_count": null,
   "metadata": {},
   "outputs": [],
   "source": []
  }
 ],
 "metadata": {
  "kernelspec": {
   "display_name": "Python 3",
   "language": "python",
   "name": "python3"
  },
  "language_info": {
   "codemirror_mode": {
    "name": "ipython",
    "version": 3
   },
   "file_extension": ".py",
   "mimetype": "text/x-python",
   "name": "python",
   "nbconvert_exporter": "python",
   "pygments_lexer": "ipython3",
   "version": "3.9.6"
  }
 },
 "nbformat": 4,
 "nbformat_minor": 2
}
